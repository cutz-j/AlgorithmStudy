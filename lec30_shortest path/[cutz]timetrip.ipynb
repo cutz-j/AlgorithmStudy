{
 "cells": [
  {
   "cell_type": "markdown",
   "metadata": {},
   "source": [
    "# 시간 초과"
   ]
  },
  {
   "cell_type": "code",
   "execution_count": 15,
   "metadata": {},
   "outputs": [
    {
     "name": "stdout",
     "output_type": "stream",
     "text": [
      "4\n",
      "2 2\n",
      "0 1 1\n",
      "0 1 3\n",
      "1 3\n",
      "4 4\n",
      "0 2 -7\n",
      "0 3 -4\n",
      "3 2 9\n",
      "2 1 3\n",
      "-4 8\n",
      "4 3\n",
      "0 2 0\n",
      "2 2 1\n",
      "2 1 0\n",
      "0 -987654321\n",
      "3 0\n",
      "UNREACHABLE\n"
     ]
    }
   ],
   "source": [
    "import gc\n",
    "\n",
    "inf = 987654321\n",
    "\n",
    "def solve(v, w, e, reachable):\n",
    "    gc.collect()\n",
    "    dist = [inf] * v\n",
    "\n",
    "    dist[0] = 0\n",
    "    for k in range(v-1):\n",
    "        for here in range(v):\n",
    "            for there, cost in e[here]:\n",
    "                if dist[there] > dist[here] + cost:\n",
    "                    dist[there] = dist[here] + cost\n",
    "\n",
    "    for here in range(v):\n",
    "        for there, cost in e[here]:\n",
    "            if dist[there] > dist[here] + cost:\n",
    "                if reachable[0][here] and reachable[here][1]:\n",
    "                    return inf\n",
    "\n",
    "    return dist[1]\n",
    "\n",
    "\n",
    "if __name__ == \"__main__\":\n",
    "    \n",
    "    for i in range(int(input())):\n",
    "        v, w = map(int, input().split())\n",
    "        e = [[]  for _ in range(v)]\n",
    "        e_neg = [[] for _ in range(v)]\n",
    "        reachable = [[False] * v for _ in range(v)]\n",
    "        for i in range(v):\n",
    "            reachable[i][i] = True\n",
    "\n",
    "        for _ in range(w):\n",
    "            i, j, value = map(int, input().split())\n",
    "            e[i].append((j,value))\n",
    "            e_neg[i].append((j,-value))\n",
    "            reachable[i][j] = True\n",
    "\n",
    "        for k in range(v):\n",
    "            for i in range(v):\n",
    "                for j in range(v):\n",
    "                    reachable[i][j] = reachable[i][j] or (reachable[i][k] and reachable[k][j])\n",
    "\n",
    "        if not reachable[0][1] :\n",
    "            print ('UNREACHABLE')\n",
    "            continue\n",
    "\n",
    "\n",
    "        ret1 = solve(v,w,e,reachable)\n",
    "        ret2 = -solve(v,w,e_neg,reachable)\n",
    "        max_value = 987654321\n",
    "        if ret1 > max_value:\n",
    "            ret1 = 'INFINITY'\n",
    "        if abs(ret2) > max_value:\n",
    "            ret2 = 'INFINITY'\n",
    "\n",
    "        print (ret1, ret2)"
   ]
  },
  {
   "cell_type": "markdown",
   "metadata": {},
   "source": [
    "# sys.stdin의 위력 // iPython에서는 안됨"
   ]
  },
  {
   "cell_type": "code",
   "execution_count": 16,
   "metadata": {},
   "outputs": [
    {
     "ename": "ValueError",
     "evalue": "invalid literal for int() with base 10: ''",
     "output_type": "error",
     "traceback": [
      "\u001b[1;31m---------------------------------------------------------------------------\u001b[0m",
      "\u001b[1;31mValueError\u001b[0m                                Traceback (most recent call last)",
      "\u001b[1;32m<ipython-input-16-03822a6af5ad>\u001b[0m in \u001b[0;36m<module>\u001b[1;34m\u001b[0m\n\u001b[0;32m      1\u001b[0m \u001b[1;32mimport\u001b[0m \u001b[0msys\u001b[0m\u001b[1;33m\u001b[0m\u001b[1;33m\u001b[0m\u001b[0m\n\u001b[0;32m      2\u001b[0m \u001b[0mrl\u001b[0m \u001b[1;33m=\u001b[0m \u001b[1;32mlambda\u001b[0m\u001b[1;33m:\u001b[0m \u001b[0msys\u001b[0m\u001b[1;33m.\u001b[0m\u001b[0mstdin\u001b[0m\u001b[1;33m.\u001b[0m\u001b[0mreadline\u001b[0m\u001b[1;33m(\u001b[0m\u001b[1;33m)\u001b[0m\u001b[1;33m.\u001b[0m\u001b[0mstrip\u001b[0m\u001b[1;33m(\u001b[0m\u001b[1;33m)\u001b[0m\u001b[1;33m\u001b[0m\u001b[1;33m\u001b[0m\u001b[0m\n\u001b[1;32m----> 3\u001b[1;33m \u001b[0mtestCase\u001b[0m \u001b[1;33m=\u001b[0m \u001b[0mint\u001b[0m\u001b[1;33m(\u001b[0m\u001b[0mrl\u001b[0m\u001b[1;33m(\u001b[0m\u001b[1;33m)\u001b[0m\u001b[1;33m)\u001b[0m\u001b[1;33m\u001b[0m\u001b[1;33m\u001b[0m\u001b[0m\n\u001b[0m\u001b[0;32m      4\u001b[0m \u001b[1;33m\u001b[0m\u001b[0m\n\u001b[0;32m      5\u001b[0m \u001b[1;32mdef\u001b[0m \u001b[0mtimetrip\u001b[0m\u001b[1;33m(\u001b[0m\u001b[0mstart\u001b[0m\u001b[1;33m,\u001b[0m \u001b[0mgraph\u001b[0m\u001b[1;33m)\u001b[0m\u001b[1;33m:\u001b[0m\u001b[1;33m\u001b[0m\u001b[1;33m\u001b[0m\u001b[0m\n",
      "\u001b[1;31mValueError\u001b[0m: invalid literal for int() with base 10: ''"
     ]
    }
   ],
   "source": [
    "import sys\n",
    "rl = lambda: sys.stdin.readline().strip()\n",
    "testCase = int(rl())\n",
    "\n",
    "def timetrip(start, graph):\n",
    "    upper = [1234567890 for a in range(V)]\n",
    "    upper[0] = 0\n",
    "    update = None\n",
    "    for iteration in range(V):\n",
    "        update = False\n",
    "        for here in range(V):\n",
    "            for there, w in graph[here]:\n",
    "                if upper[there] > upper[here] + w:\n",
    "                    upper[there] = upper[here] + w\n",
    "                    update = True\n",
    "\n",
    "    if upper[1] > 987654321:\n",
    "        return \"UNREACHABLE\"\n",
    "    if update: # 음의사이클이 감지되면 이로 인해 안드로메다가 영향을 받는지 체크\n",
    "        before = upper[1]\n",
    "        for iteration in range(V):\n",
    "            update = True\n",
    "            for here in range(V):\n",
    "                for there, w in graph[here]:\n",
    "                    if upper[there] > upper[here] + w:\n",
    "                        upper[there] = upper[here] + w\n",
    "        after = upper[1]\n",
    "        if before != after:\n",
    "            return \"INFINITY\"\n",
    "\n",
    "    return upper[1]\n",
    "        \n",
    "\n",
    "for _ in range(testCase):\n",
    "    V,E = map(int, rl().split(\" \"))\n",
    "    graph = [[] for a in range(V)]\n",
    "    graph_neg = [[] for a in range(V)]\n",
    "    for _ in range(E):\n",
    "        a,b,w = map(int, rl().split(\" \"))\n",
    "        graph[a].append((b,w))\n",
    "        graph_neg[a].append((b,-w))\n",
    "    \n",
    "    shortest, longest = timetrip(0, graph), timetrip(0, graph_neg)\n",
    "    if shortest == \"UNREACHABLE\" or longest== \"UNREACHABLE\":\n",
    "        print(\"UNREACHABLE\")\n",
    "        continue\n",
    "    \n",
    "    if isinstance(longest, int):\n",
    "        longest *= -1\n",
    "    print(str(shortest) + \" \" + str(longest))"
   ]
  },
  {
   "cell_type": "code",
   "execution_count": null,
   "metadata": {},
   "outputs": [],
   "source": []
  }
 ],
 "metadata": {
  "kernelspec": {
   "display_name": "Python 3",
   "language": "python",
   "name": "python3"
  },
  "language_info": {
   "codemirror_mode": {
    "name": "ipython",
    "version": 3
   },
   "file_extension": ".py",
   "mimetype": "text/x-python",
   "name": "python",
   "nbconvert_exporter": "python",
   "pygments_lexer": "ipython3",
   "version": "3.7.3"
  }
 },
 "nbformat": 4,
 "nbformat_minor": 2
}
