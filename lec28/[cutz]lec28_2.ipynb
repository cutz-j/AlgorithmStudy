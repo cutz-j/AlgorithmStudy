{
 "cells": [
  {
   "cell_type": "code",
   "execution_count": 2,
   "metadata": {},
   "outputs": [
    {
     "ename": "SyntaxError",
     "evalue": "Missing parentheses in call to 'print'. Did you mean print(circuit)? (<ipython-input-2-8857e97b004d>, line 59)",
     "output_type": "error",
     "traceback": [
      "\u001b[1;36m  File \u001b[1;32m\"<ipython-input-2-8857e97b004d>\"\u001b[1;36m, line \u001b[1;32m59\u001b[0m\n\u001b[1;33m    print circuit\u001b[0m\n\u001b[1;37m                ^\u001b[0m\n\u001b[1;31mSyntaxError\u001b[0m\u001b[1;31m:\u001b[0m Missing parentheses in call to 'print'. Did you mean print(circuit)?\n"
     ]
    }
   ],
   "source": [
    "def makeGraph(words):\n",
    "    for i in range (n):\n",
    "        a = ord(words[i][0]) - ord('a')\n",
    "        b = ord(words[i][-1]) - ord('a')\n",
    "        graph[a][b].append(words[i])\n",
    "        adj[a][b] += 1\n",
    "        outdegree[a] += 1\n",
    "        indegree[b] += 1\n",
    "\n",
    "def checkEuler():\n",
    "    plus1, minus1 = 0, 0\n",
    "    for i in range (26):\n",
    "        delta = outdegree[i] - indegree[i]\n",
    "        if delta < -1 or delta > 1:\t\n",
    "            return False\n",
    "        if delta == 1:\n",
    "            plus1 += 1\n",
    "        if delta == -1:\n",
    "            minus1 += 1\n",
    "    return (plus1 == 1 and minus1 == 1) or (plus1 == 0 and minus1 == 0)\n",
    "\n",
    "def getEulerCircuit(here):\n",
    "    for there in range (26):\n",
    "        while adj[here][there] > 0:\n",
    "            adj[here][there] -= 1\n",
    "            outdegree[here] -= 1\n",
    "            getEulerCircuit(there)\n",
    "    circuit.append(here)\n",
    "\n",
    "def getEulerTrailOrCircuit():\n",
    "    for i in range (26):\n",
    "        if outdegree[i] == indegree[i] + 1:\n",
    "            getEulerCircuit(i)\n",
    "            return\n",
    "\n",
    "    for i in range (26):\n",
    "        if outdegree[i]:\n",
    "            getEulerCircuit(i)\n",
    "\n",
    "for _ in range (input()):\n",
    "    n = input()\n",
    "    words = []\n",
    "    for i in range (n):\n",
    "        words.append(raw_input())\n",
    "\n",
    "    adj = [[0 for i in range (26)] for j in range (26)]\n",
    "    graph = [[[] for i in range (26)] for j in range (26)]\n",
    "    indegree = [0 for i in range (26)]\n",
    "    outdegree = [0 for j in range (26)]\n",
    "\n",
    "    makeGraph(words)\n",
    "    if not checkEuler():\n",
    "        print (\"IMPOSSIBLE\")\n",
    "        continue\n",
    "\n",
    "    circuit = []\n",
    "    getEulerTrailOrCircuit()\n",
    "    if len(circuit) != n + 1:\n",
    "        print (circuit)\n",
    "        continue\n",
    "\n",
    "    circuit.reverse()\n",
    "    ret = []\n",
    "    for i in range (1, n+1):\n",
    "        a = circuit[i-1]\n",
    "        b = circuit[i]\n",
    "        ret.append(graph[a][b].pop())\n",
    "    print (\" \").join(ret)"
   ]
  },
  {
   "cell_type": "code",
   "execution_count": null,
   "metadata": {},
   "outputs": [],
   "source": []
  }
 ],
 "metadata": {
  "kernelspec": {
   "display_name": "Python 3",
   "language": "python",
   "name": "python3"
  },
  "language_info": {
   "codemirror_mode": {
    "name": "ipython",
    "version": 3
   },
   "file_extension": ".py",
   "mimetype": "text/x-python",
   "name": "python",
   "nbconvert_exporter": "python",
   "pygments_lexer": "ipython3",
   "version": "3.7.3"
  }
 },
 "nbformat": 4,
 "nbformat_minor": 2
}
