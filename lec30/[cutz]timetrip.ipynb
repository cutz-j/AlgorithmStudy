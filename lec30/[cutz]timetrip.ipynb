{
 "cells": [
  {
   "cell_type": "markdown",
   "metadata": {},
   "source": [
    "# 시간 초과"
   ]
  },
  {
   "cell_type": "code",
   "execution_count": 15,
   "metadata": {},
   "outputs": [
    {
     "name": "stdout",
     "output_type": "stream",
     "text": [
      "4\n",
      "2 2\n",
      "0 1 1\n",
      "0 1 3\n",
      "1 3\n",
      "4 4\n",
      "0 2 -7\n",
      "0 3 -4\n",
      "3 2 9\n",
      "2 1 3\n",
      "-4 8\n",
      "4 3\n",
      "0 2 0\n",
      "2 2 1\n",
      "2 1 0\n",
      "0 -987654321\n",
      "3 0\n",
      "UNREACHABLE\n"
     ]
    }
   ],
   "source": [
    "import gc\n",
    "\n",
    "inf = 987654321\n",
    "\n",
    "def solve(v, w, e, reachable):\n",
    "    gc.collect()\n",
    "    dist = [inf] * v\n",
    "\n",
    "    dist[0] = 0\n",
    "    for k in range(v-1):\n",
    "        for here in range(v):\n",
    "            for there, cost in e[here]:\n",
    "                if dist[there] > dist[here] + cost:\n",
    "                    dist[there] = dist[here] + cost\n",
    "\n",
    "    for here in range(v):\n",
    "        for there, cost in e[here]:\n",
    "            if dist[there] > dist[here] + cost:\n",
    "                if reachable[0][here] and reachable[here][1]:\n",
    "                    return inf\n",
    "\n",
    "    return dist[1]\n",
    "\n",
    "\n",
    "if __name__ == \"__main__\":\n",
    "    \n",
    "    for i in range(int(input())):\n",
    "        v, w = map(int, input().split())\n",
    "        e = [[]  for _ in range(v)]\n",
    "        e_neg = [[] for _ in range(v)]\n",
    "        reachable = [[False] * v for _ in range(v)]\n",
    "        for i in range(v):\n",
    "            reachable[i][i] = True\n",
    "\n",
    "        for _ in range(w):\n",
    "            i, j, value = map(int, input().split())\n",
    "            e[i].append((j,value))\n",
    "            e_neg[i].append((j,-value))\n",
    "            reachable[i][j] = True\n",
    "\n",
    "        for k in range(v):\n",
    "            for i in range(v):\n",
    "                for j in range(v):\n",
    "                    reachable[i][j] = reachable[i][j] or (reachable[i][k] and reachable[k][j])\n",
    "\n",
    "        if not reachable[0][1] :\n",
    "            print ('UNREACHABLE')\n",
    "            continue\n",
    "\n",
    "\n",
    "        ret1 = solve(v,w,e,reachable)\n",
    "        ret2 = -solve(v,w,e_neg,reachable)\n",
    "        max_value = 987654321\n",
    "        if ret1 > max_value:\n",
    "            ret1 = 'INFINITY'\n",
    "        if abs(ret2) > max_value:\n",
    "            ret2 = 'INFINITY'\n",
    "\n",
    "        print (ret1, ret2)"
   ]
  },
  {
   "cell_type": "code",
   "execution_count": null,
   "metadata": {},
   "outputs": [],
   "source": []
  }
 ],
 "metadata": {
  "kernelspec": {
   "display_name": "Python 3",
   "language": "python",
   "name": "python3"
  },
  "language_info": {
   "codemirror_mode": {
    "name": "ipython",
    "version": 3
   },
   "file_extension": ".py",
   "mimetype": "text/x-python",
   "name": "python",
   "nbconvert_exporter": "python",
   "pygments_lexer": "ipython3",
   "version": "3.7.3"
  }
 },
 "nbformat": 4,
 "nbformat_minor": 2
}
