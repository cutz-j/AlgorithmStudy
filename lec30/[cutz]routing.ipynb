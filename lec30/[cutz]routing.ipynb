{
 "cells": [
  {
   "cell_type": "code",
   "execution_count": 17,
   "metadata": {},
   "outputs": [],
   "source": [
    "import heapq\n",
    "import sys\n",
    "import math"
   ]
  },
  {
   "cell_type": "markdown",
   "metadata": {},
   "source": []
  },
  {
   "cell_type": "markdown",
   "metadata": {},
   "source": [
    "# Graph"
   ]
  },
  {
   "cell_type": "code",
   "execution_count": 14,
   "metadata": {},
   "outputs": [],
   "source": [
    "t = 1\n",
    "n = 7\n",
    "m = 14"
   ]
  },
  {
   "cell_type": "code",
   "execution_count": 8,
   "metadata": {},
   "outputs": [],
   "source": [
    "inf = sys.maxsize"
   ]
  },
  {
   "cell_type": "code",
   "execution_count": 15,
   "metadata": {},
   "outputs": [],
   "source": [
    "graph = [[0]*n]*n\n",
    "\n",
    "graph[0][1] = 1.3\n",
    "graph[0][2] = 1.1\n",
    "graph[0][3] = 1.24\n",
    "graph[3][4] = 1.17\n",
    "graph[3][5] = 1.24\n",
    "graph[3][1] = 2\n",
    "graph[1][2] = 1.31\n",
    "graph[1][2] = 1.26\n",
    "graph[1][4] = 1.11\n",
    "graph[1][5] = 1.37\n",
    "graph[5][4] = 1.24\n",
    "graph[4][6] = 1.77\n",
    "graph[5][6] = 1.11\n",
    "graph[2][6] = 1.2"
   ]
  },
  {
   "cell_type": "code",
   "execution_count": null,
   "metadata": {},
   "outputs": [],
   "source": [
    "def dijkstra(k, v, graph):\n",
    "    dist = [inf]*v\n",
    "    s = [False]*v\n",
    "    dist[k-1] = 0\n",
    "    \n",
    "    priority_queue = []\n",
    "    heapq.heappush(priority_queue, [0, k])\n",
    "    \n",
    "    while priority_queue:\n",
    "        current_dist, here = heapq.heappop(priority_queue)\n",
    "\n",
    "        # 인접 노드 iteration\n",
    "        for there, length in graph[here].items():\n",
    "            next_dist = dist[here] + length\n",
    "\n",
    "            if next_dist < dist[there]:\n",
    "                dist[there] = next_dist\n",
    "                prev[there] = here\n",
    "                heapq.heappush(priority_queue, [next_dist, there])\n",
    "        "
   ]
  },
  {
   "cell_type": "markdown",
   "metadata": {},
   "source": [
    "# Solve"
   ]
  },
  {
   "cell_type": "code",
   "execution_count": null,
   "metadata": {},
   "outputs": [],
   "source": [
    "rl = lambda : sys.stdin.readline()\n",
    "    for _ in range(int(rl())):\n",
    "        n, m = map(int, rl().split())\n",
    "        graph = [[0]*n]*n\n",
    "        \n",
    "        for i_ in range(m):\n",
    "            a, b, c = map(int, rl().split())\n",
    "            \n",
    "        \n",
    "V, E = map(int, input().split())\n",
    "    K = int(input())\n",
    "    adjacent = [{} for _ in range(V + 1)]\n",
    "\n",
    "    for _ in range(E):\n",
    "        u, v, w = map(int, input().split())\n",
    "\n",
    "        # 만약 동일한 경로의 간선이 주어질 경우 적은 비용의 간선 선택\n",
    "        if v in adjacent[u]:\n",
    "            adjacent[u][v] = min(adjacent[u][v], w)\n",
    "        else:\n",
    "            adjacent[u][v] = w\n",
    "\n",
    "    dist, prev = solve(adjacent, K)\n",
    "\n",
    "    for d in dist[1:]:\n",
    "        print(d if d != INF else \"INF\")"
   ]
  }
 ],
 "metadata": {
  "kernelspec": {
   "display_name": "Python 3",
   "language": "python",
   "name": "python3"
  },
  "language_info": {
   "codemirror_mode": {
    "name": "ipython",
    "version": 3
   },
   "file_extension": ".py",
   "mimetype": "text/x-python",
   "name": "python",
   "nbconvert_exporter": "python",
   "pygments_lexer": "ipython3",
   "version": "3.7.3"
  }
 },
 "nbformat": 4,
 "nbformat_minor": 2
}
