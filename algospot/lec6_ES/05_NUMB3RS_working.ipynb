{
 "cells": [
  {
   "cell_type": "code",
   "execution_count": 3,
   "metadata": {},
   "outputs": [
    {
     "name": "stdout",
     "output_type": "stream",
     "text": [
      "2 5 2 0 0 1 1 1 0 1 0 0 0 1 1 0 0 0 0 1 0 0 0 0 0 1 0 0 0 3 0 2 4 8 2 3 0 1 1 1 0 0 0 0 1 0 0 1 0 0 0 0 1 0 0 1 0 0 0 0 1 1 1 0 1 1 0 0 0 0 0 1 0 0 1 1 0 0 0 1 0 0 0 1 0 0 0 0 1 0 0 0 0 0 0 0 1 1 0 0 4 3 1 2 6\n"
     ]
    },
    {
     "ename": "TypeError",
     "evalue": "'str' object cannot be interpreted as an integer",
     "output_type": "error",
     "traceback": [
      "\u001b[1;31m---------------------------------------------------------------------------\u001b[0m",
      "\u001b[1;31mTypeError\u001b[0m                                 Traceback (most recent call last)",
      "\u001b[1;32m<ipython-input-3-bec1e7aa84c1>\u001b[0m in \u001b[0;36m<module>\u001b[1;34m\u001b[0m\n\u001b[0;32m     34\u001b[0m             \u001b[0mprint\u001b[0m\u001b[1;33m\u001b[0m\u001b[1;33m\u001b[0m\u001b[0m\n\u001b[0;32m     35\u001b[0m \u001b[1;33m\u001b[0m\u001b[0m\n\u001b[1;32m---> 36\u001b[1;33m \u001b[0mMainFunction\u001b[0m\u001b[1;33m(\u001b[0m\u001b[1;33m)\u001b[0m\u001b[1;33m\u001b[0m\u001b[1;33m\u001b[0m\u001b[0m\n\u001b[0m",
      "\u001b[1;32m<ipython-input-3-bec1e7aa84c1>\u001b[0m in \u001b[0;36mMainFunction\u001b[1;34m()\u001b[0m\n\u001b[0;32m      1\u001b[0m \u001b[1;32mdef\u001b[0m \u001b[0mMainFunction\u001b[0m\u001b[1;33m(\u001b[0m\u001b[1;33m)\u001b[0m\u001b[1;33m:\u001b[0m\u001b[1;33m\u001b[0m\u001b[1;33m\u001b[0m\u001b[0m\n\u001b[0;32m      2\u001b[0m     \u001b[1;32mif\u001b[0m \u001b[0m__name__\u001b[0m \u001b[1;33m==\u001b[0m \u001b[1;34m\"__main__\"\u001b[0m\u001b[1;33m:\u001b[0m\u001b[1;33m\u001b[0m\u001b[1;33m\u001b[0m\u001b[0m\n\u001b[1;32m----> 3\u001b[1;33m         \u001b[1;32mfor\u001b[0m \u001b[0m_\u001b[0m \u001b[1;32min\u001b[0m \u001b[0mrange\u001b[0m\u001b[1;33m(\u001b[0m\u001b[0minput\u001b[0m\u001b[1;33m(\u001b[0m\u001b[1;33m)\u001b[0m\u001b[1;33m)\u001b[0m\u001b[1;33m:\u001b[0m\u001b[1;33m\u001b[0m\u001b[1;33m\u001b[0m\u001b[0m\n\u001b[0m\u001b[0;32m      4\u001b[0m             \u001b[1;31m# Input\u001b[0m\u001b[1;33m\u001b[0m\u001b[1;33m\u001b[0m\u001b[1;33m\u001b[0m\u001b[0m\n\u001b[0;32m      5\u001b[0m             \u001b[0mnumberOfTowns\u001b[0m\u001b[1;33m,\u001b[0m \u001b[0mdaysAfterEscaping\u001b[0m\u001b[1;33m,\u001b[0m \u001b[0mtownNumberOfPrison\u001b[0m \u001b[1;33m=\u001b[0m \u001b[0mmap\u001b[0m\u001b[1;33m(\u001b[0m\u001b[0mint\u001b[0m\u001b[1;33m,\u001b[0m \u001b[0minput\u001b[0m\u001b[1;33m(\u001b[0m\u001b[1;33m)\u001b[0m\u001b[1;33m.\u001b[0m\u001b[0msplit\u001b[0m\u001b[1;33m(\u001b[0m\u001b[1;33m)\u001b[0m\u001b[1;33m)\u001b[0m\u001b[1;33m\u001b[0m\u001b[1;33m\u001b[0m\u001b[0m\n",
      "\u001b[1;31mTypeError\u001b[0m: 'str' object cannot be interpreted as an integer"
     ]
    }
   ],
   "source": [
    "\n",
    "def MainFunction():\n",
    "    if __name__ == \"__main__\":\n",
    "        for _ in range(input()):\n",
    "            # Input\n",
    "            numberOfTowns, daysAfterEscaping, townNumberOfPrison = map(int, input().split())\n",
    "            mapOfTowns = [[0.0] * numberOfTowns for _ in range(numberOfTowns)]\n",
    "            \n",
    "            for row in range(numberOfTowns):\n",
    "                mapOfTowns[row] = map(float, input().split())\n",
    "            \n",
    "            sumOfCol = [sum(mapOfTowns[col]) for col in range(numberOfTowns)]\n",
    "            \n",
    "            for col in range(numberOfTowns):\n",
    "                for row in range(numberOfTowns):\n",
    "                    mapOfTowns[row][col] = mapOfTowns[row][col] / sumOfCol[col]\n",
    "            \n",
    "            numberOfCalculations = int(input())\n",
    "            townNumberOfCalculatedTown = [0] * numberOfCalculations\n",
    "            townNumberOfCalculatedTown = map(int, input().split())\n",
    "            probabilitiesDrDunibalHiding = [[0.0] * numberOfTowns for _ in range(daysAfterEscaping + 1)]\n",
    "            \n",
    "            # Sets a initial value\n",
    "            probabilitiesDrDunibalHiding[0][townNumberOfPrison] = 1.0\n",
    "            \n",
    "            # Gets the numbers of cases that Dr. Dunibal hided in each town at each moment\n",
    "            for dayAfterEscaping in range(1, daysAfterEscaping + 1):\n",
    "                for townNumber in range(numberOfTowns):\n",
    "                    probabilitiesDrDunibalHiding[dayAfterEscaping][townNumber] = \\\n",
    "                    sum([a*b for a,b in zip(probabilitiesDrDunibalHiding[dayAfterEscaping - 1], mapOfTowns[townNumber])])\n",
    "            \n",
    "            # Output\n",
    "            for _ in range(len(townNumberOfCalculatedTown)):\n",
    "                print (probabilitiesDrDunibalHiding[daysAfterEscaping][townNumberOfCalculatedTown[_]],)\n",
    "            print\n",
    "            \n",
    "MainFunction()\n"
   ]
  }
 ],
 "metadata": {
  "kernelspec": {
   "display_name": "Python 3",
   "language": "python",
   "name": "python3"
  },
  "language_info": {
   "codemirror_mode": {
    "name": "ipython",
    "version": 3
   },
   "file_extension": ".py",
   "mimetype": "text/x-python",
   "name": "python",
   "nbconvert_exporter": "python",
   "pygments_lexer": "ipython3",
   "version": "3.7.4"
  }
 },
 "nbformat": 4,
 "nbformat_minor": 2
}
