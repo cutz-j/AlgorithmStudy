{
 "cells": [
  {
   "cell_type": "code",
   "execution_count": 1,
   "metadata": {},
   "outputs": [],
   "source": [
    "class Heap:\n",
    "    def __init__(self, a, b):\n",
    "        self.min_heap = []\n",
    "        self.max_heap = [1983]\n",
    "        self.a = a\n",
    "        self.b = b\n",
    "        self.min_length = 0\n",
    "        self.max_length = 1\n",
    "        self.past = 1983\n",
    "    \n",
    "    def insert(self, value):\n",
    "        self.past = value\n",
    "        if value < self.max_heap[0]:\n",
    "            self.max_insert(value)\n",
    "        else:\n",
    "            self.min_insert(value)\n",
    "        \n",
    "        # maxheap length는 항상 min heap보다 같거나 +1\n",
    "        if self.max_length < self.min_length:\n",
    "            del_value = self.min_delete()\n",
    "            self.max_insert(del_value)\n",
    "        # maxheap length가 min heap의 +1보다 크다면, min heap으로\n",
    "        elif self.max_length > self.min_length+1:\n",
    "            del_value = self.max_delete()\n",
    "            self.min_insert(del_value)\n",
    "    \n",
    "    def min_insert(self, value):\n",
    "            self.min_heap.append(value)\n",
    "            self.min_length += 1\n",
    "            i = self.min_length - 1 # last index\n",
    "            while i > 0: # last index 까지\n",
    "                parent = self.parent(i) # index i의 parent node\n",
    "                if self.min_heap[i] < self.min_heap[parent]: # index i가 부모 노드보다 작다면 change\n",
    "                    self.min_heap[i], self.min_heap[parent] = self.min_heap[parent], self.min_heap[i]\n",
    "                    i = parent\n",
    "                else: # 크다면 break\n",
    "                    break\n",
    "            \n",
    "        \n",
    "    def max_insert(self, value):\n",
    "        self.max_length += 1\n",
    "        self.max_heap.append(value)\n",
    "        i = self.max_length - 1\n",
    "        while i > 0:\n",
    "            parent = self.parent(i)\n",
    "            if self.max_heap[i] > self.max_heap[parent]:\n",
    "                self.max_heap[i], self.max_heap[parent] = self.max_heap[parent], self.max_heap[i]\n",
    "                i = parent\n",
    "            else:\n",
    "                break\n",
    "            \n",
    "    \n",
    "    def min_delete(self):\n",
    "        i = self.min_length - 1 # last index\n",
    "        r = 0 # root index\n",
    "        self.min_heap[r], self.min_heap[i] = self.min_heap[i], self.min_heap[r] # value change\n",
    "        pop = self.min_heap.pop(i) # root value\n",
    "        self.min_length -= 1\n",
    "        self.min_heapify(0, self.min_length)\n",
    "        return pop\n",
    "            \n",
    "    \n",
    "    def max_delete(self):\n",
    "        i = self.max_length - 1\n",
    "        r = 0\n",
    "        self.max_heap[r], self.max_heap[i] = self.max_heap[i], self.max_heap[r]\n",
    "        pop = self.max_heap.pop(i)\n",
    "        self.max_length -= 1\n",
    "        self.max_heapify(0, self.max_length)\n",
    "        return pop\n",
    "    \n",
    "        \n",
    "    def parent(self, index):\n",
    "        return int((index-1)/2)\n",
    "    \n",
    "    def left_child(self, index):\n",
    "        return (2*index)+1\n",
    "    \n",
    "    def right_child(self, index):\n",
    "        return (2*index)+2\n",
    "    \n",
    "    def next_(self):\n",
    "        return (self.past*self.a+self.b) % 20090711\n",
    "    \n",
    "    def median(self):\n",
    "        return self.max_heap[0]\n",
    "    \n",
    "    def max_heapify(self, index, size):\n",
    "        parent = index\n",
    "        left = self.left_child(index)\n",
    "        right = self.right_child(index)\n",
    "        if left < size and self.max_heap[parent] < self.max_heap[left]:\n",
    "            parent = left\n",
    "        if right < size and self.max_heap[parent] < self.max_heap[right]:\n",
    "            parent = right\n",
    "        if parent != index:\n",
    "            self.max_heap[parent], self.max_heap[index] = self.max_heap[index], self.max_heap[parent]\n",
    "            self.max_heapify(parent, size)\n",
    "    \n",
    "    def min_heapify(self, index, size):\n",
    "        parent = index\n",
    "        left = self.left_child(index)\n",
    "        right = self.right_child(index)\n",
    "        if left < size and self.min_heap[parent] > self.min_heap[left]:\n",
    "            parent = left\n",
    "        if right < size and self.min_heap[parent] > self.min_heap[right]:\n",
    "            parent = right\n",
    "        if parent != index:\n",
    "            self.min_heap[parent], self.min_heap[index] = self.min_heap[index], self.min_heap[parent]\n",
    "            self.min_heapify(parent, size)\n",
    "        "
   ]
  },
  {
   "cell_type": "code",
   "execution_count": 2,
   "metadata": {},
   "outputs": [],
   "source": [
    "c, a, b = 10, 1, 1\n",
    "heap = Heap(a, b)"
   ]
  },
  {
   "cell_type": "code",
   "execution_count": 3,
   "metadata": {},
   "outputs": [
    {
     "name": "stdout",
     "output_type": "stream",
     "text": [
      "1983 [1983] [1984]\n",
      "1984 [1984, 1983] [1985]\n",
      "1984 [1984, 1983] [1985, 1986]\n",
      "1985 [1985, 1983, 1984] [1986, 1987]\n",
      "1985 [1985, 1983, 1984] [1986, 1987, 1988]\n",
      "1986 [1986, 1985, 1984, 1983] [1987, 1989, 1988]\n",
      "1986 [1986, 1985, 1984, 1983] [1987, 1989, 1988, 1990]\n",
      "1987 [1987, 1986, 1984, 1983, 1985] [1988, 1989, 1991, 1990]\n",
      "1987 [1987, 1986, 1984, 1983, 1985] [1988, 1989, 1991, 1990, 1992]\n"
     ]
    }
   ],
   "source": [
    "m = heap.median()\n",
    "for i in range(c-1):\n",
    "    heap.insert(heap.next_())\n",
    "    m += heap.median()\n",
    "    print(heap.median(), heap.max_heap, heap.min_heap)"
   ]
  },
  {
   "cell_type": "code",
   "execution_count": 4,
   "metadata": {},
   "outputs": [
    {
     "data": {
      "text/plain": [
       "19850"
      ]
     },
     "execution_count": 4,
     "metadata": {},
     "output_type": "execute_result"
    }
   ],
   "source": [
    "m % 20090711"
   ]
  },
  {
   "cell_type": "code",
   "execution_count": 5,
   "metadata": {},
   "outputs": [],
   "source": [
    "c, a, b = 10000, 1273, 4936\n",
    "heap = Heap(a, b)"
   ]
  },
  {
   "cell_type": "code",
   "execution_count": 6,
   "metadata": {},
   "outputs": [],
   "source": [
    "m = heap.median()\n",
    "for i in range(c-1):\n",
    "    heap.insert(heap.next_())\n",
    "    m += heap.median()\n",
    "#     print(heap.median(), heap.max_heap, heap.min_heap)"
   ]
  },
  {
   "cell_type": "code",
   "execution_count": 7,
   "metadata": {},
   "outputs": [
    {
     "data": {
      "text/plain": [
       "2448920"
      ]
     },
     "execution_count": 7,
     "metadata": {},
     "output_type": "execute_result"
    }
   ],
   "source": [
    "m % 20090711"
   ]
  },
  {
   "cell_type": "code",
   "execution_count": null,
   "metadata": {},
   "outputs": [],
   "source": []
  }
 ],
 "metadata": {
  "kernelspec": {
   "display_name": "Python 3",
   "language": "python",
   "name": "python3"
  },
  "language_info": {
   "codemirror_mode": {
    "name": "ipython",
    "version": 3
   },
   "file_extension": ".py",
   "mimetype": "text/x-python",
   "name": "python",
   "nbconvert_exporter": "python",
   "pygments_lexer": "ipython3",
   "version": "3.7.3"
  }
 },
 "nbformat": 4,
 "nbformat_minor": 2
}
